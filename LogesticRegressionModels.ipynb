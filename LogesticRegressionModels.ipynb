{
 "cells": [
  {
   "cell_type": "code",
   "execution_count": 1,
   "id": "56342ed2-47ae-418e-8c19-4a5c08c1cafd",
   "metadata": {},
   "outputs": [],
   "source": [
    "import pandas as pd\n",
    "import numpy as np \n",
    "import matplotlib.pyplot as plt\n",
    "from sklearn.datasets import load_iris"
   ]
  },
  {
   "cell_type": "code",
   "execution_count": 2,
   "id": "3c8a9e72-baac-4573-ac11-ee2cbe7610ee",
   "metadata": {},
   "outputs": [],
   "source": [
    "from scipy import special"
   ]
  },
  {
   "cell_type": "code",
   "execution_count": 3,
   "id": "64009d7a-2543-45c2-8be4-892dd9a1572f",
   "metadata": {},
   "outputs": [],
   "source": [
    "iris = load_iris()"
   ]
  },
  {
   "cell_type": "code",
   "execution_count": 5,
   "id": "74fc3d2b-81f1-4bc0-92ff-dfdd65b48d80",
   "metadata": {},
   "outputs": [],
   "source": [
    "X = iris.data"
   ]
  },
  {
   "cell_type": "code",
   "execution_count": 6,
   "id": "dfd4cf81-6523-4b7f-9086-62c11e6d0c14",
   "metadata": {},
   "outputs": [],
   "source": [
    "y = iris.target"
   ]
  },
  {
   "cell_type": "code",
   "execution_count": 4,
   "id": "408857de-8f6b-4f65-bda7-fb43556ce78f",
   "metadata": {},
   "outputs": [],
   "source": [
    "features = iris.feature_names"
   ]
  },
  {
   "cell_type": "code",
   "execution_count": 7,
   "id": "6cdc02a8-9884-4f8d-a657-8f48adbe58dd",
   "metadata": {},
   "outputs": [
    {
     "data": {
      "text/plain": [
       "['sepal length (cm)',\n",
       " 'sepal width (cm)',\n",
       " 'petal length (cm)',\n",
       " 'petal width (cm)']"
      ]
     },
     "execution_count": 7,
     "metadata": {},
     "output_type": "execute_result"
    }
   ],
   "source": [
    "features"
   ]
  },
  {
   "cell_type": "code",
   "execution_count": 8,
   "id": "68977ece-a992-4f97-b222-d0ef895c156f",
   "metadata": {},
   "outputs": [],
   "source": [
    "df = pd.DataFrame(X,columns=features)"
   ]
  },
  {
   "cell_type": "code",
   "execution_count": 9,
   "id": "ab721a77-9c6b-4807-ad79-37618a7a3cb0",
   "metadata": {},
   "outputs": [],
   "source": [
    "df['target'] = y"
   ]
  },
  {
   "cell_type": "code",
   "execution_count": 10,
   "id": "9ffe6ff0-377e-49e4-be22-5a99510c546e",
   "metadata": {},
   "outputs": [
    {
     "data": {
      "text/html": [
       "<div>\n",
       "<style scoped>\n",
       "    .dataframe tbody tr th:only-of-type {\n",
       "        vertical-align: middle;\n",
       "    }\n",
       "\n",
       "    .dataframe tbody tr th {\n",
       "        vertical-align: top;\n",
       "    }\n",
       "\n",
       "    .dataframe thead th {\n",
       "        text-align: right;\n",
       "    }\n",
       "</style>\n",
       "<table border=\"1\" class=\"dataframe\">\n",
       "  <thead>\n",
       "    <tr style=\"text-align: right;\">\n",
       "      <th></th>\n",
       "      <th>sepal length (cm)</th>\n",
       "      <th>sepal width (cm)</th>\n",
       "      <th>petal length (cm)</th>\n",
       "      <th>petal width (cm)</th>\n",
       "      <th>target</th>\n",
       "    </tr>\n",
       "  </thead>\n",
       "  <tbody>\n",
       "    <tr>\n",
       "      <th>0</th>\n",
       "      <td>5.1</td>\n",
       "      <td>3.5</td>\n",
       "      <td>1.4</td>\n",
       "      <td>0.2</td>\n",
       "      <td>0</td>\n",
       "    </tr>\n",
       "    <tr>\n",
       "      <th>1</th>\n",
       "      <td>4.9</td>\n",
       "      <td>3.0</td>\n",
       "      <td>1.4</td>\n",
       "      <td>0.2</td>\n",
       "      <td>0</td>\n",
       "    </tr>\n",
       "    <tr>\n",
       "      <th>2</th>\n",
       "      <td>4.7</td>\n",
       "      <td>3.2</td>\n",
       "      <td>1.3</td>\n",
       "      <td>0.2</td>\n",
       "      <td>0</td>\n",
       "    </tr>\n",
       "    <tr>\n",
       "      <th>3</th>\n",
       "      <td>4.6</td>\n",
       "      <td>3.1</td>\n",
       "      <td>1.5</td>\n",
       "      <td>0.2</td>\n",
       "      <td>0</td>\n",
       "    </tr>\n",
       "    <tr>\n",
       "      <th>4</th>\n",
       "      <td>5.0</td>\n",
       "      <td>3.6</td>\n",
       "      <td>1.4</td>\n",
       "      <td>0.2</td>\n",
       "      <td>0</td>\n",
       "    </tr>\n",
       "  </tbody>\n",
       "</table>\n",
       "</div>"
      ],
      "text/plain": [
       "   sepal length (cm)  sepal width (cm)  petal length (cm)  petal width (cm)  \\\n",
       "0                5.1               3.5                1.4               0.2   \n",
       "1                4.9               3.0                1.4               0.2   \n",
       "2                4.7               3.2                1.3               0.2   \n",
       "3                4.6               3.1                1.5               0.2   \n",
       "4                5.0               3.6                1.4               0.2   \n",
       "\n",
       "   target  \n",
       "0       0  \n",
       "1       0  \n",
       "2       0  \n",
       "3       0  \n",
       "4       0  "
      ]
     },
     "execution_count": 10,
     "metadata": {},
     "output_type": "execute_result"
    }
   ],
   "source": [
    "df.head()"
   ]
  },
  {
   "cell_type": "code",
   "execution_count": 11,
   "id": "b06dabff-af60-4d4e-978b-f10f717e13fc",
   "metadata": {},
   "outputs": [],
   "source": [
    "df = df.sample(frac=1).reset_index(drop=True)"
   ]
  },
  {
   "cell_type": "code",
   "execution_count": 12,
   "id": "f0fc728f-7df3-4f79-b673-7feddf404f0d",
   "metadata": {},
   "outputs": [
    {
     "data": {
      "text/html": [
       "<div>\n",
       "<style scoped>\n",
       "    .dataframe tbody tr th:only-of-type {\n",
       "        vertical-align: middle;\n",
       "    }\n",
       "\n",
       "    .dataframe tbody tr th {\n",
       "        vertical-align: top;\n",
       "    }\n",
       "\n",
       "    .dataframe thead th {\n",
       "        text-align: right;\n",
       "    }\n",
       "</style>\n",
       "<table border=\"1\" class=\"dataframe\">\n",
       "  <thead>\n",
       "    <tr style=\"text-align: right;\">\n",
       "      <th></th>\n",
       "      <th>sepal length (cm)</th>\n",
       "      <th>sepal width (cm)</th>\n",
       "      <th>petal length (cm)</th>\n",
       "      <th>petal width (cm)</th>\n",
       "      <th>target</th>\n",
       "    </tr>\n",
       "  </thead>\n",
       "  <tbody>\n",
       "    <tr>\n",
       "      <th>0</th>\n",
       "      <td>6.3</td>\n",
       "      <td>2.5</td>\n",
       "      <td>4.9</td>\n",
       "      <td>1.5</td>\n",
       "      <td>1</td>\n",
       "    </tr>\n",
       "    <tr>\n",
       "      <th>1</th>\n",
       "      <td>6.9</td>\n",
       "      <td>3.1</td>\n",
       "      <td>4.9</td>\n",
       "      <td>1.5</td>\n",
       "      <td>1</td>\n",
       "    </tr>\n",
       "    <tr>\n",
       "      <th>2</th>\n",
       "      <td>6.4</td>\n",
       "      <td>3.2</td>\n",
       "      <td>5.3</td>\n",
       "      <td>2.3</td>\n",
       "      <td>2</td>\n",
       "    </tr>\n",
       "    <tr>\n",
       "      <th>3</th>\n",
       "      <td>5.1</td>\n",
       "      <td>3.8</td>\n",
       "      <td>1.9</td>\n",
       "      <td>0.4</td>\n",
       "      <td>0</td>\n",
       "    </tr>\n",
       "    <tr>\n",
       "      <th>4</th>\n",
       "      <td>5.2</td>\n",
       "      <td>3.5</td>\n",
       "      <td>1.5</td>\n",
       "      <td>0.2</td>\n",
       "      <td>0</td>\n",
       "    </tr>\n",
       "  </tbody>\n",
       "</table>\n",
       "</div>"
      ],
      "text/plain": [
       "   sepal length (cm)  sepal width (cm)  petal length (cm)  petal width (cm)  \\\n",
       "0                6.3               2.5                4.9               1.5   \n",
       "1                6.9               3.1                4.9               1.5   \n",
       "2                6.4               3.2                5.3               2.3   \n",
       "3                5.1               3.8                1.9               0.4   \n",
       "4                5.2               3.5                1.5               0.2   \n",
       "\n",
       "   target  \n",
       "0       1  \n",
       "1       1  \n",
       "2       2  \n",
       "3       0  \n",
       "4       0  "
      ]
     },
     "execution_count": 12,
     "metadata": {},
     "output_type": "execute_result"
    }
   ],
   "source": [
    "df.head()"
   ]
  },
  {
   "cell_type": "code",
   "execution_count": 25,
   "id": "88c79254-aacf-4b09-9f81-444922d022b2",
   "metadata": {},
   "outputs": [],
   "source": [
    "## Using seaborn to check the variation of features as compared to result"
   ]
  },
  {
   "cell_type": "code",
   "execution_count": 13,
   "id": "9cb8d682-20df-496d-b462-b1e38b246b52",
   "metadata": {},
   "outputs": [],
   "source": [
    "import seaborn as sns\n",
    "sns.set_style('darkgrid')"
   ]
  },
  {
   "cell_type": "code",
   "execution_count": 14,
   "id": "5b5d4497-9cb8-4f92-8f7a-62a440437931",
   "metadata": {},
   "outputs": [
    {
     "data": {
      "text/plain": [
       "<seaborn.axisgrid.PairGrid at 0x7fdf44fe49a0>"
      ]
     },
     "execution_count": 14,
     "metadata": {},
     "output_type": "execute_result"
    },
    {
     "data": {
      "image/png": "[encoded data removed]",
      "text/plain": [
       "<Figure size 762.375x180 with 4 Axes>"
      ]
     },
     "metadata": {},
     "output_type": "display_data"
    }
   ],
   "source": [
    "sns.pairplot(df,y_vars = 'target',hue='target')\n"
   ]
  },
  {
   "cell_type": "code",
   "execution_count": 15,
   "id": "95018ea8-774c-41d1-9229-b62af02bbae6",
   "metadata": {},
   "outputs": [
    {
     "data": {
      "text/html": [
       "<div>\n",
       "<style scoped>\n",
       "    .dataframe tbody tr th:only-of-type {\n",
       "        vertical-align: middle;\n",
       "    }\n",
       "\n",
       "    .dataframe tbody tr th {\n",
       "        vertical-align: top;\n",
       "    }\n",
       "\n",
       "    .dataframe thead th {\n",
       "        text-align: right;\n",
       "    }\n",
       "</style>\n",
       "<table border=\"1\" class=\"dataframe\">\n",
       "  <thead>\n",
       "    <tr style=\"text-align: right;\">\n",
       "      <th></th>\n",
       "      <th>sepal length (cm)</th>\n",
       "      <th>sepal width (cm)</th>\n",
       "      <th>petal length (cm)</th>\n",
       "      <th>petal width (cm)</th>\n",
       "    </tr>\n",
       "  </thead>\n",
       "  <tbody>\n",
       "    <tr>\n",
       "      <th>sepal length (cm)</th>\n",
       "      <td>1.000000</td>\n",
       "      <td>-0.117570</td>\n",
       "      <td>0.871754</td>\n",
       "      <td>0.817941</td>\n",
       "    </tr>\n",
       "    <tr>\n",
       "      <th>sepal width (cm)</th>\n",
       "      <td>-0.117570</td>\n",
       "      <td>1.000000</td>\n",
       "      <td>-0.428440</td>\n",
       "      <td>-0.366126</td>\n",
       "    </tr>\n",
       "    <tr>\n",
       "      <th>petal length (cm)</th>\n",
       "      <td>0.871754</td>\n",
       "      <td>-0.428440</td>\n",
       "      <td>1.000000</td>\n",
       "      <td>0.962865</td>\n",
       "    </tr>\n",
       "    <tr>\n",
       "      <th>petal width (cm)</th>\n",
       "      <td>0.817941</td>\n",
       "      <td>-0.366126</td>\n",
       "      <td>0.962865</td>\n",
       "      <td>1.000000</td>\n",
       "    </tr>\n",
       "  </tbody>\n",
       "</table>\n",
       "</div>"
      ],
      "text/plain": [
       "                   sepal length (cm)  sepal width (cm)  petal length (cm)  \\\n",
       "sepal length (cm)           1.000000         -0.117570           0.871754   \n",
       "sepal width (cm)           -0.117570          1.000000          -0.428440   \n",
       "petal length (cm)           0.871754         -0.428440           1.000000   \n",
       "petal width (cm)            0.817941         -0.366126           0.962865   \n",
       "\n",
       "                   petal width (cm)  \n",
       "sepal length (cm)          0.817941  \n",
       "sepal width (cm)          -0.366126  \n",
       "petal length (cm)          0.962865  \n",
       "petal width (cm)           1.000000  "
      ]
     },
     "execution_count": 15,
     "metadata": {},
     "output_type": "execute_result"
    }
   ],
   "source": [
    "df.drop(['target'],axis=1).corr()"
   ]
  },
  {
   "cell_type": "markdown",
   "id": "5aa3b17e-1dc4-40eb-b827-68f9fe81b85b",
   "metadata": {},
   "source": [
    "## Selecting only two values of target variable  to make the logestic regression only between 0 and 1"
   ]
  },
  {
   "cell_type": "code",
   "execution_count": 16,
   "id": "1a14c790-efa1-4f66-a186-41522cdb18d7",
   "metadata": {},
   "outputs": [],
   "source": [
    "df2 = df[df['target']!=2]"
   ]
  },
  {
   "cell_type": "code",
   "execution_count": 17,
   "id": "e9aee182-1da0-45bd-a7ef-20f192b56a28",
   "metadata": {},
   "outputs": [
    {
     "data": {
      "text/plain": [
       "(100, 5)"
      ]
     },
     "execution_count": 17,
     "metadata": {},
     "output_type": "execute_result"
    }
   ],
   "source": [
    "df2.shape"
   ]
  },
  {
   "cell_type": "code",
   "execution_count": 18,
   "id": "261e68ab-f16f-42b8-ad7e-1d0ba3ba642f",
   "metadata": {},
   "outputs": [
    {
     "data": {
      "text/plain": [
       "array([1, 0])"
      ]
     },
     "execution_count": 18,
     "metadata": {},
     "output_type": "execute_result"
    }
   ],
   "source": [
    "df2.target.unique()"
   ]
  },
  {
   "cell_type": "code",
   "execution_count": 62,
   "id": "48a9b511-c629-4009-a93d-c64d1c78c729",
   "metadata": {},
   "outputs": [
    {
     "data": {
      "image/png": "[encoded data removed]",
      "text/plain": [
       "<Figure size 762.375x180 with 4 Axes>"
      ]
     },
     "metadata": {},
     "output_type": "display_data"
    }
   ],
   "source": [
    "sns.pairplot(df2,y_vars = 'target',hue='target')\n",
    "plt.show()"
   ]
  },
  {
   "cell_type": "code",
   "execution_count": 98,
   "id": "e5a2b7e8-bf71-4120-84b1-c3dd7564e57a",
   "metadata": {},
   "outputs": [],
   "source": []
  },
  {
   "cell_type": "code",
   "execution_count": 20,
   "id": "1e1d02cf-0e08-4a03-b030-9bd7ddfb24be",
   "metadata": {},
   "outputs": [
    {
     "data": {
      "text/plain": [
       "(150, 4)"
      ]
     },
     "execution_count": 20,
     "metadata": {},
     "output_type": "execute_result"
    }
   ],
   "source": [
    "X.shape"
   ]
  },
  {
   "cell_type": "code",
   "execution_count": 21,
   "id": "31e0865c-d42d-4aa0-99d8-1cb2e056984d",
   "metadata": {},
   "outputs": [
    {
     "data": {
      "text/plain": [
       "(150,)"
      ]
     },
     "execution_count": 21,
     "metadata": {},
     "output_type": "execute_result"
    }
   ],
   "source": [
    "y.shape"
   ]
  },
  {
   "cell_type": "code",
   "execution_count": 31,
   "id": "c23db013-402f-45ce-9809-db12d75c3d99",
   "metadata": {},
   "outputs": [],
   "source": [
    "## Creating a function for cacluting the sigmoid "
   ]
  },
  {
   "cell_type": "code",
   "execution_count": 30,
   "id": "d4685bd7-67ed-4cf9-bbc5-8ad8eade40e3",
   "metadata": {},
   "outputs": [],
   "source": [
    "def sigmoid(z):\n",
    "    \"\"\"Returns the sigmoid\"\"\"\n",
    "    s = 1/(1-np.exp(-z))\n",
    "    return s"
   ]
  },
  {
   "cell_type": "code",
   "execution_count": 22,
   "id": "6816c5d9-46af-448a-aa69-3566bef300c2",
   "metadata": {},
   "outputs": [],
   "source": [
    "def cost_function(X,y,W,b):\n",
    "    m,n = X.shape\n",
    "    \n",
    "    cost = 0\n",
    "    for i in range(m):\n",
    "        t = np.dot(X[i],W)+b\n",
    "        f_wb = sigmoid(t)\n",
    "       \n",
    "            \n",
    "        cost+= -y[i]*(special.log1p(f_wb))-(1-y[i]*(special.log1p(1-f_wb)))\n",
    "        \n",
    "    cost = cost/m\n",
    "    \n",
    "    return cost\n",
    "    \n",
    "        "
   ]
  },
  {
   "cell_type": "code",
   "execution_count": 23,
   "id": "969f26c8-08ed-4467-a9ce-af2d894ac049",
   "metadata": {},
   "outputs": [],
   "source": [
    "def gradient_descent(X,y,W,b):\n",
    "    m,n = X.shape\n",
    "    dj_dw = np.zeros((n,))\n",
    "    dj_db = 0\n",
    "    \n",
    "    for i in range(m):\n",
    "        err_i = (np.dot(X[i],W)+b)-y[i]\n",
    "        for j in range(n):\n",
    "            dj_dw_i = err_i*X[i,j]\n",
    "            dj_dw[j]+=dj_dw_i\n",
    "            \n",
    "        dj_db+=err_i\n",
    "        \n",
    "    dj_dw = dj_dw/m\n",
    "    dj_db = dj_db/m\n",
    "    \n",
    "    return dj_dw,dj_db"
   ]
  },
  {
   "cell_type": "code",
   "execution_count": 26,
   "id": "fb3738d0-fb1e-4c3a-a123-28be65b371d5",
   "metadata": {},
   "outputs": [],
   "source": [
    "def logestic_regression(X,y,W,b,alpha=0.01,iterations=10000):\n",
    "    m,n = X.shape\n",
    "    W_i = W\n",
    "    b_i = b\n",
    "    cost = np.zeros(iterations+1)\n",
    "    \n",
    "    for i in range(iterations+1):\n",
    "        dj_dw,dj_db = gradient_descent(X,y,W_i,b_i)\n",
    "        W_i = W_i-alpha*dj_dw\n",
    "        b_i = b_i-alpha*dj_db\n",
    "        \n",
    "        cost[i] = cost_function(X,y,W_i,b_i)\n",
    "        \n",
    "    y_pred = np.zeros(m)\n",
    "    \n",
    "    for i in range(m):\n",
    "        p = np.dot(X[i],W_i)+b_i\n",
    "        \n",
    "        if p>0.5:\n",
    "            y_pred[i]=1\n",
    "        else:\n",
    "            y_pred[i]=0\n",
    "            \n",
    "    return W_i,b_i,cost,y_pred"
   ]
  },
  {
   "cell_type": "code",
   "execution_count": 25,
   "id": "1649dc53-9d06-4c8d-a255-74dcb78e7bd7",
   "metadata": {},
   "outputs": [],
   "source": [
    "X = df2.drop(['target'],axis=1).values\n",
    "y = df2['target'].values\n",
    "W = np.zeros(4)\n",
    "b=0.0"
   ]
  },
  {
   "cell_type": "code",
   "execution_count": 27,
   "id": "cd1ef935-5519-4daa-8660-ea5d48bf0fea",
   "metadata": {},
   "outputs": [],
   "source": [
    "from sklearn.model_selection import train_test_split"
   ]
  },
  {
   "cell_type": "code",
   "execution_count": 38,
   "id": "904aaf79-c890-4bb9-87e8-2df14a724bb3",
   "metadata": {},
   "outputs": [],
   "source": [
    "from sklearn.preprocessing import StandardScaler"
   ]
  },
  {
   "cell_type": "code",
   "execution_count": 28,
   "id": "075c7271-e99f-4ab0-b18d-892ab7a2813a",
   "metadata": {},
   "outputs": [],
   "source": [
    "X_train,X_test,y_train,y_test = train_test_split(X,y,test_size=0.2,stratify=y,random_state=42)"
   ]
  },
  {
   "cell_type": "code",
   "execution_count": 53,
   "id": "a951fa6b-6a31-46be-84ea-be7ff64764bd",
   "metadata": {},
   "outputs": [],
   "source": [
    "sc = StandardScaler()\n",
    "X_ntrain = sc.fit_transform(X_train)\n",
    "X_ntest = sc.transform(X_test)"
   ]
  },
  {
   "cell_type": "code",
   "execution_count": 54,
   "id": "72a344a1-ffed-4cc3-a63b-336dfbc9afe5",
   "metadata": {},
   "outputs": [],
   "source": [
    "W_i,b_i,cost,y_pred = logestic_regression(X_ntrain,y_train,W,b,alpha=0.1,iterations=10000)"
   ]
  },
  {
   "cell_type": "code",
   "execution_count": 55,
   "id": "8b201316-85ba-4e67-aa6e-46da1aa64aa5",
   "metadata": {},
   "outputs": [],
   "source": [
    "def predict(X,W,b):\n",
    "    m = X.shape[0]\n",
    "    y_hat = np.zeros(m)\n",
    "    \n",
    "    for i in range(m):\n",
    "        p = np.dot(X[i],W)+b\n",
    "        \n",
    "        if p>=0.5:\n",
    "            y_hat[i]=1\n",
    "        else:\n",
    "            y_hat[i]=0\n",
    "        \n",
    "    return y_hat\n",
    "    "
   ]
  },
  {
   "cell_type": "code",
   "execution_count": 43,
   "id": "24cb2974-39a8-4986-aa2c-ad5fa0f5be1e",
   "metadata": {},
   "outputs": [],
   "source": [
    "from sklearn.metrics import confusion_matrix,accuracy_score"
   ]
  },
  {
   "cell_type": "code",
   "execution_count": 56,
   "id": "802dc73c-d59c-4c7c-b396-c4fc3e917ba6",
   "metadata": {},
   "outputs": [],
   "source": [
    "y_pred_test = predict(X_ntest,W_i,b_i)"
   ]
  },
  {
   "cell_type": "code",
   "execution_count": 57,
   "id": "e281e84e-1da3-4923-a43a-d5a737ffbe44",
   "metadata": {},
   "outputs": [
    {
     "name": "stdout",
     "output_type": "stream",
     "text": [
      "Accuracy of model : 100.00 %\n"
     ]
    }
   ],
   "source": [
    "print('Accuracy of model : {:.2f} %'.format(accuracy_score(y_test,y_pred_test)*100))"
   ]
  },
  {
   "cell_type": "code",
   "execution_count": 58,
   "id": "b0218e13-3d57-4637-a98e-21eaeca14111",
   "metadata": {},
   "outputs": [
    {
     "data": {
      "text/plain": [
       "array([1., 1., 1., 1., 0., 0., 0., 1., 0., 0., 0., 1., 0., 0., 0., 1., 1.,\n",
       "       0., 1., 1.])"
      ]
     },
     "execution_count": 58,
     "metadata": {},
     "output_type": "execute_result"
    }
   ],
   "source": [
    "y_pred_test"
   ]
  },
  {
   "cell_type": "code",
   "execution_count": 59,
   "id": "2432bb6b-b917-4305-abb4-3b4364ac5ea0",
   "metadata": {},
   "outputs": [
    {
     "data": {
      "text/plain": [
       "array([1, 1, 1, 1, 0, 0, 0, 1, 0, 0, 0, 1, 0, 0, 0, 1, 1, 0, 1, 1])"
      ]
     },
     "execution_count": 59,
     "metadata": {},
     "output_type": "execute_result"
    }
   ],
   "source": [
    "y_test"
   ]
  },
  {
   "cell_type": "markdown",
   "id": "815ec924-2abb-4496-b0c5-b741393b140b",
   "metadata": {},
   "source": [
    "## Using sklearn logestic regression"
   ]
  },
  {
   "cell_type": "code",
   "execution_count": 63,
   "id": "7c38c041-7fb5-40d9-9884-560bb1ec3925",
   "metadata": {},
   "outputs": [],
   "source": [
    "from sklearn.linear_model import LogisticRegression"
   ]
  },
  {
   "cell_type": "code",
   "execution_count": 64,
   "id": "9e998188-b3af-4bfe-a8db-aaa13869a6c3",
   "metadata": {},
   "outputs": [
    {
     "data": {
      "text/plain": [
       "LogisticRegression()"
      ]
     },
     "execution_count": 64,
     "metadata": {},
     "output_type": "execute_result"
    }
   ],
   "source": [
    "lr = LogisticRegression()\n",
    "lr.fit(X_ntrain,y_train)"
   ]
  },
  {
   "cell_type": "code",
   "execution_count": 65,
   "id": "19c319b0-be13-4fca-8ce7-bc840f0f590c",
   "metadata": {},
   "outputs": [],
   "source": [
    "y_pred = lr.predict(X_ntrain)"
   ]
  },
  {
   "cell_type": "code",
   "execution_count": 66,
   "id": "e0db66de-4ebd-420a-9ac9-f8e22d949df0",
   "metadata": {},
   "outputs": [
    {
     "name": "stdout",
     "output_type": "stream",
     "text": [
      "Accuracy of model : 100.00 %\n"
     ]
    }
   ],
   "source": [
    "print('Accuracy of model : {:.2f} %'.format(accuracy_score(y_train,y_pred)*100))"
   ]
  },
  {
   "cell_type": "code",
   "execution_count": 67,
   "id": "27e9ff77-2928-40c4-8a4d-64ea6d87f897",
   "metadata": {},
   "outputs": [],
   "source": [
    "y_pred_test = lr.predict(X_ntest)"
   ]
  },
  {
   "cell_type": "code",
   "execution_count": 68,
   "id": "1e60baa6-c686-4517-8bfc-600618098228",
   "metadata": {},
   "outputs": [
    {
     "name": "stdout",
     "output_type": "stream",
     "text": [
      "Accuracy of model : 100.00 %\n"
     ]
    }
   ],
   "source": [
    "print('Accuracy of model : {:.2f} %'.format(accuracy_score(y_test,y_pred_test)*100))"
   ]
  },
  {
   "cell_type": "markdown",
   "id": "ee061ffa-00a2-4a5a-9224-2a2be7533b65",
   "metadata": {},
   "source": [
    "## From both the model we are getting the model accuracy as 100%"
   ]
  },
  {
   "cell_type": "markdown",
   "id": "c39b4957-1b73-4e94-81b0-e5823c21d551",
   "metadata": {},
   "source": [
    "## Using tensorflow"
   ]
  },
  {
   "cell_type": "code",
   "execution_count": 69,
   "id": "50e2c088-7009-40f3-acee-85fdecd22f40",
   "metadata": {},
   "outputs": [],
   "source": [
    "import tensorflow as tf"
   ]
  },
  {
   "cell_type": "code",
   "execution_count": 70,
   "id": "05e35fd7-1acd-4f25-b436-0b1a56384933",
   "metadata": {},
   "outputs": [],
   "source": [
    "from tensorflow.keras.layers import Dense, Input\n",
    "from tensorflow.keras import models, Sequential\n",
    "from tensorflow.keras.optimizers import Adam"
   ]
  },
  {
   "cell_type": "code",
   "execution_count": 135,
   "id": "b4c9314e-7003-4f69-a077-77d9a1ecb09f",
   "metadata": {},
   "outputs": [],
   "source": [
    "model = Sequential()\n",
    "model.add(Input(shape=(X_ntrain.shape[1],)))\n",
    "model.add(Dense(1,activation='sigmoid'))"
   ]
  },
  {
   "cell_type": "code",
   "execution_count": 124,
   "id": "e8829394-6554-4ce7-b90b-567aa2baa417",
   "metadata": {},
   "outputs": [
    {
     "name": "stdout",
     "output_type": "stream",
     "text": [
      "Model: \"sequential_4\"\n",
      "_________________________________________________________________\n",
      " Layer (type)                Output Shape              Param #   \n",
      "=================================================================\n",
      " dense_9 (Dense)             (None, 1)                 5         \n",
      "                                                                 \n",
      "=================================================================\n",
      "Total params: 5\n",
      "Trainable params: 5\n",
      "Non-trainable params: 0\n",
      "_________________________________________________________________\n"
     ]
    }
   ],
   "source": [
    "model.summary()"
   ]
  },
  {
   "cell_type": "code",
   "execution_count": 137,
   "id": "201df1bb-a51f-4154-9a9e-46b3e99ff7b9",
   "metadata": {},
   "outputs": [],
   "source": [
    "optim=Adam(learning_rate=0.001)"
   ]
  },
  {
   "cell_type": "code",
   "execution_count": 138,
   "id": "aa7b538f-0e4d-453a-92e1-6c10e44fa57e",
   "metadata": {},
   "outputs": [],
   "source": [
    "model.compile(optimizer=optim,loss=tf.keras.losses.BinaryCrossentropy(from_logits=True))"
   ]
  },
  {
   "cell_type": "code",
   "execution_count": 139,
   "id": "812731e7-cbf0-4ba4-9106-8f376767694e",
   "metadata": {
    "collapsed": true,
    "jupyter": {
     "outputs_hidden": true
    },
    "tags": []
   },
   "outputs": [
    {
     "name": "stdout",
     "output_type": "stream",
     "text": [
      "Epoch 1/100\n"
     ]
    },
    {
     "name": "stderr",
     "output_type": "stream",
     "text": [
      "/home/abhilash/Coding/genv/lib/python3.8/site-packages/tensorflow/python/util/dispatch.py:1082: UserWarning: \"`binary_crossentropy` received `from_logits=True`, but the `output` argument was produced by a sigmoid or softmax activation and thus does not represent logits. Was this intended?\"\n",
      "  return dispatch_target(*args, **kwargs)\n"
     ]
    },
    {
     "name": "stdout",
     "output_type": "stream",
     "text": [
      "80/80 [==============================] - 1s 2ms/step - loss: 0.4378\n",
      "Epoch 2/100\n",
      "80/80 [==============================] - 0s 1ms/step - loss: 0.3736\n",
      "Epoch 3/100\n",
      "80/80 [==============================] - 0s 1ms/step - loss: 0.3218\n",
      "Epoch 4/100\n",
      "80/80 [==============================] - 0s 1ms/step - loss: 0.2798\n",
      "Epoch 5/100\n",
      "80/80 [==============================] - 0s 2ms/step - loss: 0.2453\n",
      "Epoch 6/100\n",
      "80/80 [==============================] - 0s 2ms/step - loss: 0.2168\n",
      "Epoch 7/100\n",
      "80/80 [==============================] - 0s 1ms/step - loss: 0.1928\n",
      "Epoch 8/100\n",
      "80/80 [==============================] - 0s 1ms/step - loss: 0.1728\n",
      "Epoch 9/100\n",
      "80/80 [==============================] - 0s 2ms/step - loss: 0.1556\n",
      "Epoch 10/100\n",
      "80/80 [==============================] - 0s 1ms/step - loss: 0.1408\n",
      "Epoch 11/100\n",
      "80/80 [==============================] - 0s 1ms/step - loss: 0.1281\n",
      "Epoch 12/100\n",
      "80/80 [==============================] - 0s 2ms/step - loss: 0.1170\n",
      "Epoch 13/100\n",
      "80/80 [==============================] - 0s 2ms/step - loss: 0.1073\n",
      "Epoch 14/100\n",
      "80/80 [==============================] - 0s 2ms/step - loss: 0.0988\n",
      "Epoch 15/100\n",
      "80/80 [==============================] - 0s 2ms/step - loss: 0.0912\n",
      "Epoch 16/100\n",
      "80/80 [==============================] - 0s 2ms/step - loss: 0.0845\n",
      "Epoch 17/100\n",
      "80/80 [==============================] - 0s 2ms/step - loss: 0.0785\n",
      "Epoch 18/100\n",
      "80/80 [==============================] - 0s 2ms/step - loss: 0.0730\n",
      "Epoch 19/100\n",
      "80/80 [==============================] - 0s 2ms/step - loss: 0.0681\n",
      "Epoch 20/100\n",
      "80/80 [==============================] - 0s 1ms/step - loss: 0.0637\n",
      "Epoch 21/100\n",
      "80/80 [==============================] - 0s 1ms/step - loss: 0.0596\n",
      "Epoch 22/100\n",
      "80/80 [==============================] - 0s 1ms/step - loss: 0.0560\n",
      "Epoch 23/100\n",
      "80/80 [==============================] - 0s 1ms/step - loss: 0.0526\n",
      "Epoch 24/100\n",
      "80/80 [==============================] - 0s 1ms/step - loss: 0.0495\n",
      "Epoch 25/100\n",
      "80/80 [==============================] - 0s 1ms/step - loss: 0.0467\n",
      "Epoch 26/100\n",
      "80/80 [==============================] - 0s 1ms/step - loss: 0.0441\n",
      "Epoch 27/100\n",
      "80/80 [==============================] - 0s 2ms/step - loss: 0.0417\n",
      "Epoch 28/100\n",
      "80/80 [==============================] - 0s 2ms/step - loss: 0.0394\n",
      "Epoch 29/100\n",
      "80/80 [==============================] - 0s 2ms/step - loss: 0.0373\n",
      "Epoch 30/100\n",
      "80/80 [==============================] - 0s 2ms/step - loss: 0.0355\n",
      "Epoch 31/100\n",
      "80/80 [==============================] - 0s 1ms/step - loss: 0.0336\n",
      "Epoch 32/100\n",
      "80/80 [==============================] - 0s 1ms/step - loss: 0.0319\n",
      "Epoch 33/100\n",
      "80/80 [==============================] - 0s 1ms/step - loss: 0.0304\n",
      "Epoch 34/100\n",
      "80/80 [==============================] - 0s 1ms/step - loss: 0.0289\n",
      "Epoch 35/100\n",
      "80/80 [==============================] - 0s 1ms/step - loss: 0.0275\n",
      "Epoch 36/100\n",
      "80/80 [==============================] - 0s 2ms/step - loss: 0.0263\n",
      "Epoch 37/100\n",
      "80/80 [==============================] - 0s 2ms/step - loss: 0.0250\n",
      "Epoch 38/100\n",
      "80/80 [==============================] - 0s 2ms/step - loss: 0.0239\n",
      "Epoch 39/100\n",
      "80/80 [==============================] - 0s 2ms/step - loss: 0.0228\n",
      "Epoch 40/100\n",
      "80/80 [==============================] - 0s 1ms/step - loss: 0.0218\n",
      "Epoch 41/100\n",
      "80/80 [==============================] - 0s 1ms/step - loss: 0.0209\n",
      "Epoch 42/100\n",
      "80/80 [==============================] - 0s 1ms/step - loss: 0.0200\n",
      "Epoch 43/100\n",
      "80/80 [==============================] - 0s 1ms/step - loss: 0.0191\n",
      "Epoch 44/100\n",
      "80/80 [==============================] - 0s 2ms/step - loss: 0.0183\n",
      "Epoch 45/100\n",
      "80/80 [==============================] - 0s 2ms/step - loss: 0.0175\n",
      "Epoch 46/100\n",
      "80/80 [==============================] - 0s 1ms/step - loss: 0.0168\n",
      "Epoch 47/100\n",
      "80/80 [==============================] - 0s 1ms/step - loss: 0.0161\n",
      "Epoch 48/100\n",
      "80/80 [==============================] - 0s 1ms/step - loss: 0.0155\n",
      "Epoch 49/100\n",
      "80/80 [==============================] - 0s 1ms/step - loss: 0.0148\n",
      "Epoch 50/100\n",
      "80/80 [==============================] - 0s 2ms/step - loss: 0.0142\n",
      "Epoch 51/100\n",
      "80/80 [==============================] - 0s 1ms/step - loss: 0.0137\n",
      "Epoch 52/100\n",
      "80/80 [==============================] - 0s 1ms/step - loss: 0.0131\n",
      "Epoch 53/100\n",
      "80/80 [==============================] - 0s 1ms/step - loss: 0.0126\n",
      "Epoch 54/100\n",
      "80/80 [==============================] - 0s 1ms/step - loss: 0.0121\n",
      "Epoch 55/100\n",
      "80/80 [==============================] - 0s 1ms/step - loss: 0.0117\n",
      "Epoch 56/100\n",
      "80/80 [==============================] - 0s 1ms/step - loss: 0.0112\n",
      "Epoch 57/100\n",
      "80/80 [==============================] - 0s 1ms/step - loss: 0.0108\n",
      "Epoch 58/100\n",
      "80/80 [==============================] - 0s 1ms/step - loss: 0.0104\n",
      "Epoch 59/100\n",
      "80/80 [==============================] - 0s 2ms/step - loss: 0.0100\n",
      "Epoch 60/100\n",
      "80/80 [==============================] - 0s 1ms/step - loss: 0.0096\n",
      "Epoch 61/100\n",
      "80/80 [==============================] - 0s 1ms/step - loss: 0.0093\n",
      "Epoch 62/100\n",
      "80/80 [==============================] - 0s 1ms/step - loss: 0.0089\n",
      "Epoch 63/100\n",
      "80/80 [==============================] - 0s 1ms/step - loss: 0.0086\n",
      "Epoch 64/100\n",
      "80/80 [==============================] - 0s 1ms/step - loss: 0.0083\n",
      "Epoch 65/100\n",
      "80/80 [==============================] - 0s 1ms/step - loss: 0.0080\n",
      "Epoch 66/100\n",
      "80/80 [==============================] - 0s 1ms/step - loss: 0.0077\n",
      "Epoch 67/100\n",
      "80/80 [==============================] - 0s 1ms/step - loss: 0.0074\n",
      "Epoch 68/100\n",
      "80/80 [==============================] - 0s 2ms/step - loss: 0.0072\n",
      "Epoch 69/100\n",
      "80/80 [==============================] - 0s 2ms/step - loss: 0.0069\n",
      "Epoch 70/100\n",
      "80/80 [==============================] - 0s 1ms/step - loss: 0.0067\n",
      "Epoch 71/100\n",
      "80/80 [==============================] - 0s 2ms/step - loss: 0.0064\n",
      "Epoch 72/100\n",
      "80/80 [==============================] - 0s 1ms/step - loss: 0.0062\n",
      "Epoch 73/100\n",
      "80/80 [==============================] - 0s 2ms/step - loss: 0.0060\n",
      "Epoch 74/100\n",
      "80/80 [==============================] - 0s 1ms/step - loss: 0.0058\n",
      "Epoch 75/100\n",
      "80/80 [==============================] - 0s 1ms/step - loss: 0.0056\n",
      "Epoch 76/100\n",
      "80/80 [==============================] - 0s 1ms/step - loss: 0.0054\n",
      "Epoch 77/100\n",
      "80/80 [==============================] - 0s 2ms/step - loss: 0.0052\n",
      "Epoch 78/100\n",
      "80/80 [==============================] - 0s 2ms/step - loss: 0.0050\n",
      "Epoch 79/100\n",
      "80/80 [==============================] - 0s 2ms/step - loss: 0.0049\n",
      "Epoch 80/100\n",
      "80/80 [==============================] - 0s 1ms/step - loss: 0.0047\n",
      "Epoch 81/100\n",
      "80/80 [==============================] - 0s 1ms/step - loss: 0.0045\n",
      "Epoch 82/100\n",
      "80/80 [==============================] - 0s 1ms/step - loss: 0.0044\n",
      "Epoch 83/100\n",
      "80/80 [==============================] - 0s 2ms/step - loss: 0.0042\n",
      "Epoch 84/100\n",
      "80/80 [==============================] - 0s 1ms/step - loss: 0.0041\n",
      "Epoch 85/100\n",
      "80/80 [==============================] - 0s 1ms/step - loss: 0.0040\n",
      "Epoch 86/100\n",
      "80/80 [==============================] - 0s 2ms/step - loss: 0.0038\n",
      "Epoch 87/100\n",
      "80/80 [==============================] - 0s 1ms/step - loss: 0.0037\n",
      "Epoch 88/100\n",
      "80/80 [==============================] - 0s 1ms/step - loss: 0.0036\n",
      "Epoch 89/100\n",
      "80/80 [==============================] - 0s 2ms/step - loss: 0.0035\n",
      "Epoch 90/100\n",
      "80/80 [==============================] - 0s 1ms/step - loss: 0.0034\n",
      "Epoch 91/100\n",
      "80/80 [==============================] - 0s 1ms/step - loss: 0.0032\n",
      "Epoch 92/100\n",
      "80/80 [==============================] - 0s 2ms/step - loss: 0.0031\n",
      "Epoch 93/100\n",
      "80/80 [==============================] - 0s 1ms/step - loss: 0.0030\n",
      "Epoch 94/100\n",
      "80/80 [==============================] - 0s 1ms/step - loss: 0.0029\n",
      "Epoch 95/100\n",
      "80/80 [==============================] - 0s 1ms/step - loss: 0.0028\n",
      "Epoch 96/100\n",
      "80/80 [==============================] - 0s 1ms/step - loss: 0.0028\n",
      "Epoch 97/100\n",
      "80/80 [==============================] - 0s 1ms/step - loss: 0.0027\n",
      "Epoch 98/100\n",
      "80/80 [==============================] - 0s 2ms/step - loss: 0.0026\n",
      "Epoch 99/100\n",
      "80/80 [==============================] - 0s 1ms/step - loss: 0.0025\n",
      "Epoch 100/100\n",
      "80/80 [==============================] - 0s 1ms/step - loss: 0.0024\n"
     ]
    },
    {
     "data": {
      "text/plain": [
       "<keras.callbacks.History at 0x7fded81ddf10>"
      ]
     },
     "execution_count": 139,
     "metadata": {},
     "output_type": "execute_result"
    }
   ],
   "source": [
    "model.fit(x=X_ntrain,y=y_train,batch_size=1,epochs=100)"
   ]
  },
  {
   "cell_type": "code",
   "execution_count": 140,
   "id": "31eb546c-d922-4293-a104-7afa5bbd5cc3",
   "metadata": {},
   "outputs": [],
   "source": [
    "def predict_by_tensorflow(X,model):\n",
    "    pred = np.zeros(X.shape[0])\n",
    "    p = model.predict(X)\n",
    "    \n",
    "    for i in range(p.shape[0]):\n",
    "        if p[:,0][i]>=0.5:\n",
    "            pred[i]=1\n",
    "        else:\n",
    "            pred[i]=0\n",
    "            \n",
    "    return pred"
   ]
  },
  {
   "cell_type": "code",
   "execution_count": 141,
   "id": "2c6ef315-b46a-44f4-938d-e820e12eb4e6",
   "metadata": {},
   "outputs": [],
   "source": [
    "y_pred = predict_by_tensorflow(X_ntrain,model)"
   ]
  },
  {
   "cell_type": "code",
   "execution_count": 142,
   "id": "48c16db3-1d6c-4b66-a12a-395b2d6a41ca",
   "metadata": {},
   "outputs": [
    {
     "name": "stdout",
     "output_type": "stream",
     "text": [
      "Accuracy of model : 100.00 %\n"
     ]
    }
   ],
   "source": [
    "print('Accuracy of model : {:.2f} %'.format(accuracy_score(y_train,y_pred)*100))"
   ]
  },
  {
   "cell_type": "code",
   "execution_count": 143,
   "id": "993db988-eabc-4421-8cfe-06e9f1873f91",
   "metadata": {},
   "outputs": [],
   "source": [
    "y_pred_test = predict_by_tensorflow(X_ntest,model)"
   ]
  },
  {
   "cell_type": "code",
   "execution_count": 144,
   "id": "1cf449a1-3174-44b0-996e-ee5dbeeffb55",
   "metadata": {},
   "outputs": [
    {
     "name": "stdout",
     "output_type": "stream",
     "text": [
      "Accuracy of model : 100.00 %\n"
     ]
    }
   ],
   "source": [
    "print('Accuracy of model : {:.2f} %'.format(accuracy_score(y_test,y_pred_test)*100))"
   ]
  },
  {
   "cell_type": "code",
   "execution_count": null,
   "id": "47ad79df-9160-4a6a-b1bf-c5cf060438c1",
   "metadata": {},
   "outputs": [],
   "source": []
  }
 ],
 "metadata": {
  "kernelspec": {
   "display_name": "Python 3",
   "language": "python",
   "name": "python3"
  },
  "language_info": {
   "codemirror_mode": {
    "name": "ipython",
    "version": 3
   },
   "file_extension": ".py",
   "mimetype": "text/x-python",
   "name": "python",
   "nbconvert_exporter": "python",
   "pygments_lexer": "ipython3",
   "version": "3.8.10"
  }
 },
 "nbformat": 4,
 "nbformat_minor": 5
}
